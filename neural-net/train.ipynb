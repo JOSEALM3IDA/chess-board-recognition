{
  "cells": [
    {
      "cell_type": "markdown",
      "source": [
        "# Chesser"
      ],
      "metadata": {},
      "id": "4725e347-6162-44b9-9c8f-f1906094af4d"
    },
    {
      "cell_type": "markdown",
      "source": [
        "### Initial Setup"
      ],
      "metadata": {},
      "id": "b26e2d49-0725-4e6c-a8ed-dac14ec14944"
    },
    {
      "cell_type": "code",
      "source": [
        "# Imports\n",
        "import os, warnings\n",
        "import matplotlib.pyplot as plt\n",
        "from matplotlib import gridspec\n",
        "import tensorflow as tf\n",
        "from tensorflow import keras\n",
        "from tensorflow.keras import layers\n",
        "from tensorflow.keras.layers.experimental import preprocessing\n",
        "import numpy as np\n",
        "from tensorflow.keras.preprocessing import image_dataset_from_directory\n",
        "from tensorflow.keras.callbacks import EarlyStopping\n",
        "#import seaborn as sns\n",
        "from pathlib import Path\n",
        "\n",
        "# Set Matplotlib defaults\n",
        "plt.rc('figure', autolayout=True)\n",
        "plt.rc('axes', labelweight='bold', labelsize='large',\n",
        "       titleweight='bold', titlesize=18, titlepad=10)\n",
        "plt.rc('image', cmap='magma')\n",
        "warnings.filterwarnings(\"ignore\") # to clean up output cells\n",
        "\n",
        "# Reproducibility\n",
        "def set_seed(seed=31415):\n",
        "    np.random.seed(seed)\n",
        "    tf.random.set_seed(seed)\n",
        "    os.environ['PYTHONHASHSEED'] = str(seed)\n",
        "    os.environ['TF_DETERMINISTIC_OPS'] = '1'\n",
        "set_seed()\n",
        "\n",
        "# Check Tensorflow identifies GPU and enable memory growth\n",
        "#physical_devices = tf.config.experimental.list_physical_Devices('GPU')\n",
        "#print(\"Num GPUs available: \" , len(physical_devices))\n",
        "#tf.config.experimental.set_memory_grows(physical_devices[0], True)\n"
      ],
      "outputs": [],
      "execution_count": 1,
      "metadata": {
        "gather": {
          "logged": 1642585072322
        }
      },
      "id": "8eab9d2c-722d-4503-8140-e9e0e3347a33"
    },
    {
      "cell_type": "code",
      "source": [
        "data_dir = Path('input/classes')\n",
        "image_count = len(list(data_dir.glob('*/*')))\n",
        "print(image_count)"
      ],
      "outputs": [
        {
          "output_type": "stream",
          "name": "stdout",
          "text": "1002\n"
        }
      ],
      "execution_count": 2,
      "metadata": {
        "gather": {
          "logged": 1642585072597
        }
      },
      "id": "790876c1-f45e-4b5b-8181-caa92e063c2b"
    },
    {
      "cell_type": "code",
      "source": [
        "batch_size = 64\n",
        "\n",
        "# Train Dataset\n",
        "train_ds = tf.keras.utils.image_dataset_from_directory(\n",
        "  data_dir,\n",
        "  validation_split=0.2,\n",
        "  seed=123,\n",
        "  subset=\"training\",\n",
        "  label_mode='categorical',\n",
        "  #image_size=(img_height, img_width),\n",
        "  batch_size=batch_size)\n",
        "\n",
        "# Validation Dataset\n",
        "val_ds = tf.keras.utils.image_dataset_from_directory(\n",
        "  data_dir,\n",
        "  validation_split=0.2,\n",
        "  seed=123,\n",
        "  subset=\"validation\",\n",
        "  label_mode='categorical',\n",
        "  #image_size=(img_height, img_width),\n",
        "  batch_size=batch_size)\n",
        "\n",
        "class_names = train_ds.class_names\n",
        "num_classes = len(train_ds.class_names)\n",
        "print(num_classes, class_names)"
      ],
      "outputs": [
        {
          "output_type": "stream",
          "name": "stdout",
          "text": "Found 994 files belonging to 13 classes.\nUsing 796 files for training.\nFound 994 files belonging to 13 classes.\nUsing 198 files for validation.\n13 ['BB', 'BK', 'BN', 'BP', 'BQ', 'BR', 'Empty', 'WB', 'WK', 'WN', 'WP', 'WQ', 'WR']\n"
        }
      ],
      "execution_count": 3,
      "metadata": {
        "gather": {
          "logged": 1642585073549
        }
      },
      "id": "5ee9274e-ce57-413f-9c5c-47fedfb6d037"
    },
    {
      "cell_type": "markdown",
      "source": [
        "### Standardize the data"
      ],
      "metadata": {},
      "id": "5ca92a03-79d3-44ad-ac53-f8f0343ad702"
    },
    {
      "cell_type": "code",
      "source": [
        "normalization_layer = tf.keras.layers.Rescaling(1./255)\n",
        "normalized_ds = train_ds.map(lambda x, y: (normalization_layer(x), y))\n",
        "image_batch, labels_batch = next(iter(normalized_ds))\n",
        "first_image = image_batch[0]\n",
        "# Notice the pixel values are now in `[0,1]`.\n",
        "print(np.min(first_image), np.max(first_image))"
      ],
      "outputs": [
        {
          "output_type": "stream",
          "name": "stdout",
          "text": "0.12476595 0.8694392\n"
        }
      ],
      "execution_count": 4,
      "metadata": {
        "gather": {
          "logged": 1642585079403
        }
      },
      "id": "1bad7d24-e8ee-4147-9174-852a8504afb4"
    },
    {
      "cell_type": "markdown",
      "source": [
        "### Configure the dataset for performance"
      ],
      "metadata": {},
      "id": "6d303bbe-c257-42fb-9adf-a5e20bb87809"
    },
    {
      "cell_type": "code",
      "source": [
        "#AUTOTUNE = tf.data.AUTOTUNE\n",
        "\n",
        "#train_ds = train_ds.cache().prefetch(buffer_size=AUTOTUNE)\n",
        "#val_ds = val_ds.cache().prefetch(buffer_size=AUTOTUNE)\n",
        "#def configure_for_performance(ds):\n",
        "#  ds = ds.cache()\n",
        "#  ds = ds.shuffle(buffer_size=1000)\n",
        "#  ds = ds.batch(batch_size)\n",
        "#  ds = ds.prefetch(buffer_size=AUTOTUNE)\n",
        "#  return ds\n",
        "\n",
        "#train_ds = configure_for_performance(train_ds)\n",
        "#val_ds = configure_for_performance(val_ds)"
      ],
      "outputs": [],
      "execution_count": 5,
      "metadata": {
        "gather": {
          "logged": 1642585079603
        }
      },
      "id": "df485093-19ce-46e4-88b7-65ba3d1b44c2"
    },
    {
      "cell_type": "markdown",
      "source": [
        "### Train model"
      ],
      "metadata": {},
      "id": "81f0f07f-f577-431b-99af-759b3961aff4"
    },
    {
      "cell_type": "code",
      "source": [
        "import os\n",
        "import numpy as np\n",
        "\n",
        "from tensorflow.keras.callbacks import TensorBoard\n",
        "from tensorflow.keras.models import Sequential\n",
        "from tensorflow.keras.layers import Dense, Dropout, Flatten\n",
        "from tensorflow.keras.layers import Conv2D, MaxPooling2D\n",
        "from tensorflow.keras import backend as K\n",
        "from keras.constraints import max_norm\n",
        "\n",
        "# architecture of the neural network\n",
        "model = Sequential()\n",
        "model.add(Conv2D(32, kernel_size=(5,5),\n",
        "                activation='relu',\n",
        "                kernel_constraint=max_norm(3.)))\n",
        "model.add(MaxPooling2D(pool_size=(2,2)))\n",
        "#Conv block 2\n",
        "model.add(Conv2D(64, kernel_size=(5,5), activation='relu', kernel_constraint=max_norm(3.)))\n",
        "model.add(MaxPooling2D(pool_size=(2,2)))\n",
        "model.add(Dropout(0.5))\n",
        "\n",
        "# Identification\n",
        "model.add(Flatten())\n",
        "model.add(Dense(128, activation='relu', name='features'))\n",
        "model.add(Dropout(0.5))\n",
        "model.add(Dense(32, activation='softmax'))\n",
        "model.add(Dense(32, activation='softplus'))\n",
        "model.add(Dense(64, activation='relu'))\n",
        "model.add(Dense(13, activation='sigmoid'))\n",
        "\n",
        "model.compile(loss='binary_crossentropy',\n",
        "             optimizer='Adam',\n",
        "             metrics=['accuracy'])\n",
        "# the loss is minimized by the neural net\n",
        "# optimizer is the method for training (Adam= stochastic gradient descent, adaptive estimation of first-order and second-order moments)\n",
        "# metrics accuracy divides total by count, the number of correctly identified images to total number of images\n",
        "\n",
        "LOGDIR = \"./logs\"\n",
        "my_tensorboard = TensorBoard(log_dir = LOGDIR,\n",
        "                            histogram_freq=1,\n",
        "                            write_graph=True,\n",
        "                            write_images=True)\n",
        "# Hyperparamter\n",
        "my_epochs = 2\n",
        "\n",
        "history = model.fit(train_ds,\n",
        "                   batch_size=batch_size,\n",
        "                   callbacks=[my_tensorboard],\n",
        "                   epochs=my_epochs,\n",
        "                   verbose=1,\n",
        "                   validation_data=val_ds)\n",
        "\n",
        "#model.summary()"
      ],
      "outputs": [
        {
          "output_type": "stream",
          "name": "stdout",
          "text": "Epoch 1/2\n13/13 [==============================] - 24s 1s/step - loss: 0.6712 - accuracy: 0.0603 - val_loss: 0.5601 - val_accuracy: 0.1010\b\b\b\b\b\b\b\b\b\b\b\b\b\b\b\b\b\b\b\b\b\b\b\b\b\b\b\b\b\b\b\b\b\b\b\b\b\b\b\b\nEpoch 2/2\n13/13 [==============================] - 19s 1s/step - loss: 0.4960 - accuracy: 0.0704 - val_loss: 0.4205 - val_accuracy: 0.1010\b\b\b\b\b\b\b\b\b\b\b\b\b\b\b\b\b\b\b\b\b\b\b\b\b\b\b\b\b\b\b\b\b\b\b\b\b\b\b\b\n"
        }
      ],
      "execution_count": 6,
      "metadata": {
        "gather": {
          "logged": 1642585123067
        }
      },
      "id": "2b394518-db10-4384-b8a4-539fad052dd9"
    },
    {
      "cell_type": "markdown",
      "source": [
        "### Confusion Matrix and Learning Curve"
      ],
      "metadata": {
        "nteract": {
          "transient": {
            "deleting": false
          }
        }
      },
      "id": "ee20448d-b15f-4621-a012-cec0d2f5b56b"
    },
    {
      "cell_type": "code",
      "source": [
        "import matplotlib.pyplot as plt\r\n",
        "\r\n",
        "# Training & Validation accuracy values\r\n",
        "plt.plot(history.history['accuracy'])\r\n",
        "plt.plot(history.history['val_accuracy'])\r\n",
        "plt.title('Model Accuracy')\r\n",
        "plt.ylabel('Accuracy')\r\n",
        "plt.xlabel('Epoch')\r\n",
        "plt.legend(['Train', 'Validation'], loc='upper left')\r\n",
        "plt.show()\r\n",
        "\r\n",
        "# Training & Validation loss values\r\n",
        "plt.plot(history.history['loss'])\r\n",
        "plt.plot(history.history['val_loss'])\r\n",
        "plt.title('Model Loss')\r\n",
        "plt.ylabel('Loss')\r\n",
        "plt.xlabel('Epoch')\r\n",
        "plt.legend(['Train', 'Validation'], loc='upper left')\r\n",
        "plt.show()"
      ],
      "outputs": [
        {
          "output_type": "display_data",
          "data": {
            "text/plain": "<Figure size 432x288 with 1 Axes>",
            "image/png": "[encoded data removed]"
          },
          "metadata": {
            "needs_background": "light"
          }
        },
        {
          "output_type": "display_data",
          "data": {
            "text/plain": "<Figure size 432x288 with 1 Axes>",
            "image/png": "[encoded data removed]"
          },
          "metadata": {
            "needs_background": "light"
          }
        }
      ],
      "execution_count": 7,
      "metadata": {
        "jupyter": {
          "source_hidden": false,
          "outputs_hidden": false
        },
        "nteract": {
          "transient": {
            "deleting": false
          }
        },
        "gather": {
          "logged": 1642585123587
        }
      },
      "id": "b6c0c5ab-4c50-4d21-84d8-a2929964b8d8"
    },
    {
      "cell_type": "code",
      "source": [
        "#predictions = np.array([])\r\n",
        "#labels =  np.array([])\r\n",
        "#for x, y in test_ds:\r\n",
        "#  predictions = np.concatenate([predictions, **np.argmax**(model.predict(x), axis = -1)])\r\n",
        "#  labels = np.concatenate([labels, np.argmax(y.numpy(), axis=-1)])\r\n",
        "# \r\n",
        "# Printing the input tensor\r\n",
        "#print('labels: ',labels)\r\n",
        "#print('Predictions: ',predictions)\r\n",
        " \r\n",
        "# Evaluating confusion matrix\r\n",
        "#mat = tf.math.confusion_matrix(labels,predictions)\r\n",
        " \r\n",
        "#from sklearn.metrics import plot_confusion_matrix\r\n",
        "#plot_confusion_matrix(mat=mat, class_names=class_names)\r\n"
      ],
      "outputs": [
        {
          "output_type": "error",
          "ename": "SyntaxError",
          "evalue": "invalid syntax (<ipython-input-25-cc99e4744c9d>, line 4)",
          "traceback": [
            "\u001b[0;36m  File \u001b[0;32m\"<ipython-input-25-cc99e4744c9d>\"\u001b[0;36m, line \u001b[0;32m4\u001b[0m\n\u001b[0;31m    predictions = np.concatenate([predictions, **np.argmax**(model.predict(x), axis = -1)])\u001b[0m\n\u001b[0m                                               ^\u001b[0m\n\u001b[0;31mSyntaxError\u001b[0m\u001b[0;31m:\u001b[0m invalid syntax\n"
          ]
        }
      ],
      "execution_count": 25,
      "metadata": {
        "jupyter": {
          "source_hidden": false,
          "outputs_hidden": false
        },
        "nteract": {
          "transient": {
            "deleting": false
          }
        },
        "gather": {
          "logged": 1642585392164
        }
      },
      "id": "6c3bd97d-32cd-40d4-a5fd-b133c3a40cf5"
    },
    {
      "cell_type": "code",
      "source": [
        "model.save('network.h5')"
      ],
      "outputs": [],
      "execution_count": null,
      "metadata": {
        "jupyter": {
          "source_hidden": false,
          "outputs_hidden": false
        },
        "nteract": {
          "transient": {
            "deleting": false
          }
        },
        "gather": {
          "logged": 1642583252839
        }
      },
      "id": "7b4214a9-b66c-4a1e-8868-f9ebe33c7804"
    },
    {
      "cell_type": "code",
      "source": [
        "#from tensorflow.keras.models import load_model\r\n",
        "#new_model = load_model('network.h5')\r\n",
        "#plttitle = \"Training image nr {} \\n class {}\".format()\r\n",
        "#plt.figure(figsize=(10, 10))\r\n",
        "#class_names = train_ds.class_names\r\n",
        "#for images, labels in train_ds.take(1):\r\n",
        "#    for i in range(32):\r\n",
        "#        ax = plt.subplot(6, 6, i + 1)\r\n",
        "#        plt.imshow(images[i].numpy().astype(\"uint8\"))\r\n",
        "#        print(class_names)\r\n",
        "#        #plt.title(class_names[labels[i]])\r\n",
        "#        plt.axis(\"off\")\r\n",
        "\r\n",
        "#plt.figure(figsize=(10, 10))\r\n",
        "#for images, labels in train_ds.take(1):\r\n",
        "#  for i in range(9):\r\n",
        "#    ax = plt.subplot(3, 3, i + 1)\r\n",
        "#    plt.imshow(images[i].numpy().astype(\"uint8\"))\r\n",
        "#    #plt.title(class_names[labels[i]])\r\n",
        "#    print(labels[i])\r\n",
        "#    plt.axis(\"off\")"
      ],
      "outputs": [],
      "execution_count": null,
      "metadata": {
        "jupyter": {
          "source_hidden": false,
          "outputs_hidden": false
        },
        "nteract": {
          "transient": {
            "deleting": false
          }
        },
        "gather": {
          "logged": 1642582069755
        }
      },
      "id": "b38c5c1f-d36b-445e-bdd6-daa83118fd90"
    }
  ],
  "metadata": {
    "kernelspec": {
      "name": "azureml_py38_tensorflow",
      "language": "python",
      "display_name": "Python 3.8 - Tensorflow"
    },
    "language_info": {
      "name": "python",
      "version": "3.8.1",
      "mimetype": "text/x-python",
      "codemirror_mode": {
        "name": "ipython",
        "version": 3
      },
      "pygments_lexer": "ipython3",
      "nbconvert_exporter": "python",
      "file_extension": ".py"
    },
    "kernel_info": {
      "name": "azureml_py38_tensorflow"
    },
    "microsoft": {
      "host": {
        "AzureML": {
          "notebookHasBeenCompleted": true
        }
      }
    },
    "nteract": {
      "version": "nteract-front-end@1.0.0"
    }
  },
  "nbformat": 4,
  "nbformat_minor": 5
}