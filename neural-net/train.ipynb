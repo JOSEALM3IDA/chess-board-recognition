{
  "cells": [
    {
      "cell_type": "markdown",
      "source": [
        "# Chesser"
      ],
      "metadata": {},
      "id": "4725e347-6162-44b9-9c8f-f1906094af4d"
    },
    {
      "cell_type": "markdown",
      "source": [
        "### Initial Setup"
      ],
      "metadata": {},
      "id": "b26e2d49-0725-4e6c-a8ed-dac14ec14944"
    },
    {
      "cell_type": "code",
      "source": [
        "# Imports\n",
        "import os, warnings\n",
        "import matplotlib.pyplot as plt\n",
        "from matplotlib import gridspec\n",
        "import tensorflow as tf\n",
        "from tensorflow import keras\n",
        "from tensorflow.keras import layers\n",
        "from tensorflow.keras.layers.experimental import preprocessing\n",
        "import numpy as np\n",
        "from tensorflow.keras.preprocessing import image_dataset_from_directory\n",
        "from tensorflow.keras.callbacks import EarlyStopping\n",
        "import seaborn as sns\n",
        "from sklearn.metrics import confusion_matrix\n",
        "from sklearn.metrics import classification_report\n",
        "from sklearn.metrics import accuracy_score\n",
        "from pathlib import Path\n",
        "\n",
        "# Set Matplotlib defaults\n",
        "plt.rc('figure', autolayout=True)\n",
        "plt.rc('axes', labelweight='bold', labelsize='large',\n",
        "       titleweight='bold', titlesize=18, titlepad=10)\n",
        "plt.rc('image', cmap='magma')\n",
        "warnings.filterwarnings(\"ignore\") # to clean up output cells\n",
        "\n",
        "# Reproducibility\n",
        "def set_seed(seed=31415):\n",
        "    np.random.seed(seed)\n",
        "    tf.random.set_seed(seed)\n",
        "    os.environ['PYTHONHASHSEED'] = str(seed)\n",
        "    os.environ['TF_DETERMINISTIC_OPS'] = '1'\n",
        "set_seed()\n",
        "\n",
        "# Check Tensorflow identifies GPU and enable memory growth\n",
        "#physical_devices = tf.config.experimental.list_physical_Devices('GPU')\n",
        "#print(\"Num GPUs available: \" , len(physical_devices))\n",
        "#tf.config.experimental.set_memory_grows(physical_devices[0], True)\n"
      ],
      "outputs": [],
      "execution_count": 1,
      "metadata": {
        "gather": {
          "logged": 1643754364741
        }
      },
      "id": "8eab9d2c-722d-4503-8140-e9e0e3347a33"
    },
    {
      "cell_type": "code",
      "source": [
        "data_dir = Path('input/classes')\n",
        "image_count = len(list(data_dir.glob('*/*')))\n",
        "print(image_count)"
      ],
      "outputs": [
        {
          "output_type": "stream",
          "name": "stdout",
          "text": "1143\n"
        }
      ],
      "execution_count": 2,
      "metadata": {
        "gather": {
          "logged": 1643754364820
        }
      },
      "id": "790876c1-f45e-4b5b-8181-caa92e063c2b"
    },
    {
      "cell_type": "code",
      "source": [
        "batch_size = 64\n",
        "\n",
        "# Train Dataset\n",
        "train_ds = tf.keras.utils.image_dataset_from_directory(\n",
        "  data_dir,\n",
        "  validation_split=0.2,\n",
        "  seed=123,\n",
        "  subset=\"training\",\n",
        "  label_mode='categorical',\n",
        "  #image_size=(img_height, img_width),\n",
        "  batch_size=batch_size)\n",
        "\n",
        "# Validation Dataset\n",
        "val_ds = tf.keras.utils.image_dataset_from_directory(\n",
        "  data_dir,\n",
        "  validation_split=0.2,\n",
        "  seed=123,\n",
        "  subset=\"validation\",\n",
        "  label_mode='categorical',\n",
        "  #image_size=(img_height, img_width),\n",
        "  batch_size=batch_size)\n",
        "\n",
        "class_names = train_ds.class_names\n",
        "num_classes = len(train_ds.class_names)\n",
        "print(num_classes, class_names)"
      ],
      "outputs": [
        {
          "output_type": "stream",
          "name": "stdout",
          "text": "Found 1127 files belonging to 13 classes.\nUsing 902 files for training.\nFound 1127 files belonging to 13 classes.\nUsing 225 files for validation.\n13 ['BB', 'BK', 'BN', 'BP', 'BQ', 'BR', 'Empty', 'WB', 'WK', 'WN', 'WP', 'WQ', 'WR']\n"
        }
      ],
      "execution_count": 3,
      "metadata": {
        "gather": {
          "logged": 1643754366078
        }
      },
      "id": "5ee9274e-ce57-413f-9c5c-47fedfb6d037"
    },
    {
      "cell_type": "markdown",
      "source": [
        "### Standardize the data"
      ],
      "metadata": {},
      "id": "5ca92a03-79d3-44ad-ac53-f8f0343ad702"
    },
    {
      "cell_type": "code",
      "source": [
        "normalization_layer = tf.keras.layers.Rescaling(1./255)\n",
        "normalized_ds = train_ds.map(lambda x, y: (normalization_layer(x), y))\n",
        "image_batch, labels_batch = next(iter(normalized_ds))\n",
        "first_image = image_batch[0]\n",
        "# Notice the pixel values are now in `[0,1]`.\n",
        "print(np.min(first_image), np.max(first_image))"
      ],
      "outputs": [
        {
          "output_type": "stream",
          "name": "stdout",
          "text": "0.05557754 0.811106\n"
        }
      ],
      "execution_count": 4,
      "metadata": {
        "gather": {
          "logged": 1643754371458
        }
      },
      "id": "1bad7d24-e8ee-4147-9174-852a8504afb4"
    },
    {
      "cell_type": "markdown",
      "source": [
        "### Configure the dataset for performance"
      ],
      "metadata": {},
      "id": "6d303bbe-c257-42fb-9adf-a5e20bb87809"
    },
    {
      "cell_type": "code",
      "source": [
        "#AUTOTUNE = tf.data.AUTOTUNE\n",
        "\n",
        "#train_ds = train_ds.cache().prefetch(buffer_size=AUTOTUNE)\n",
        "#val_ds = val_ds.cache().prefetch(buffer_size=AUTOTUNE)\n",
        "#def configure_for_performance(ds):\n",
        "#  ds = ds.cache()\n",
        "#  ds = ds.shuffle(buffer_size=1000)\n",
        "#  ds = ds.batch(batch_size)\n",
        "#  ds = ds.prefetch(buffer_size=AUTOTUNE)\n",
        "#  return ds\n",
        "\n",
        "#train_ds = configure_for_performance(train_ds)\n",
        "#val_ds = configure_for_performance(val_ds)"
      ],
      "outputs": [],
      "execution_count": 5,
      "metadata": {
        "gather": {
          "logged": 1643754371543
        }
      },
      "id": "df485093-19ce-46e4-88b7-65ba3d1b44c2"
    },
    {
      "cell_type": "markdown",
      "source": [
        "### Train model"
      ],
      "metadata": {},
      "id": "81f0f07f-f577-431b-99af-759b3961aff4"
    },
    {
      "cell_type": "code",
      "source": [
        "import os\n",
        "import numpy as np\n",
        "\n",
        "from tensorflow.keras.callbacks import TensorBoard\n",
        "from tensorflow.keras.models import Sequential\n",
        "from tensorflow.keras.layers import Dense, Dropout, Flatten\n",
        "from tensorflow.keras.layers import Conv2D, MaxPooling2D\n",
        "from tensorflow.keras import backend as K\n",
        "from keras.constraints import max_norm\n",
        "\n",
        "# architecture of the neural network\n",
        "model = Sequential()\n",
        "model.add(Conv2D(32, kernel_size=(5,5),\n",
        "                activation='relu',\n",
        "                kernel_constraint=max_norm(3.)))\n",
        "model.add(MaxPooling2D(pool_size=(2,2)))\n",
        "#Conv block 2\n",
        "model.add(Conv2D(64, kernel_size=(5,5), activation='relu', kernel_constraint=max_norm(3.)))\n",
        "model.add(MaxPooling2D(pool_size=(2,2)))\n",
        "model.add(Dropout(0.5))\n",
        "\n",
        "# Identification\n",
        "model.add(Flatten())\n",
        "model.add(Dense(128, activation='relu', name='features'))\n",
        "model.add(Dropout(0.5))\n",
        "model.add(Dense(64, activation='relu'))\n",
        "model.add(Dense(13, activation='sigmoid'))\n",
        "\n",
        "model.compile(loss='binary_crossentropy',\n",
        "             optimizer='Adam',\n",
        "             metrics=['accuracy'])\n",
        "# the loss is minimized by the neural net\n",
        "# optimizer is the method for training (Adam= stochastic gradient descent, adaptive estimation of first-order and second-order moments)\n",
        "# metrics accuracy divides total by count, the number of correctly identified images to total number of images\n",
        "\n",
        "LOGDIR = \"./logs\"\n",
        "my_tensorboard = TensorBoard(log_dir = LOGDIR,\n",
        "                            histogram_freq=1,\n",
        "                            write_graph=True,\n",
        "                            write_images=True)\n",
        "# Hyperparamter\n",
        "my_epochs = 75\n",
        "\n",
        "history = model.fit(train_ds,\n",
        "                   batch_size=batch_size,\n",
        "                   callbacks=[my_tensorboard],\n",
        "                   epochs=my_epochs,\n",
        "                   verbose=1,\n",
        "                   validation_data=val_ds)\n",
        "\n",
        "model.save('network.h5')"
      ],
      "outputs": [
        {
          "output_type": "stream",
          "name": "stdout",
          "text": "Epoch 1/75\n15/15 [==============================] - 24s 1s/step - loss: 18.0511 - accuracy: 0.0765 - val_loss: 0.4014 - val_accuracy: 0.1644\b\b\b\b\b\b\b\b\b\b\b\b\b\b\b\b\b\b\b\b\b\b\b\b\b\b\b\b\b\b\b\b\b\b\b\b\b\b\b\b\b\nEpoch 2/75\n15/15 [==============================] - 22s 1s/step - loss: 0.3905 - accuracy: 0.1530 - val_loss: 0.2982 - val_accuracy: 0.1733\b\b\b\b\b\b\b\b\b\b\b\b\b\b\b\b\b\b\b\b\b\b\b\b\b\b\b\b\b\b\b\b\b\b\b\b\b\b\b\b\nEpoch 3/75\n15/15 [==============================] - 22s 1s/step - loss: 0.3167 - accuracy: 0.2062 - val_loss: 0.3051 - val_accuracy: 0.1956\b\b\b\b\b\b\b\b\b\b\b\b\b\b\b\b\b\b\b\b\b\b\b\b\b\b\b\b\b\b\b\b\b\b\b\b\b\b\b\b\nEpoch 4/75\n15/15 [==============================] - 21s 1s/step - loss: 0.2892 - accuracy: 0.2694 - val_loss: 0.3180 - val_accuracy: 0.2178\b\b\b\b\b\b\b\b\b\b\b\b\b\b\b\b\b\b\b\b\b\b\b\b\b\b\b\b\b\b\b\b\b\b\b\b\b\b\b\b\nEpoch 5/75\n15/15 [==============================] - 21s 1s/step - loss: 0.2914 - accuracy: 0.3348 - val_loss: 0.3011 - val_accuracy: 0.2533\b\b\b\b\b\b\b\b\b\b\b\b\b\b\b\b\b\b\b\b\b\b\b\b\b\b\b\b\b\b\b\b\b\b\b\b\b\b\b\b\nEpoch 6/75\n15/15 [==============================] - 23s 1s/step - loss: 0.2319 - accuracy: 0.4656 - val_loss: 0.2614 - val_accuracy: 0.2622\b\b\b\b\b\b\b\b\b\b\b\b\b\b\b\b\b\b\b\b\b\b\b\b\b\b\b\b\b\b\b\b\b\b\b\b\b\b\b\b\nEpoch 7/75\n15/15 [==============================] - 22s 1s/step - loss: 0.2118 - accuracy: 0.4878 - val_loss: 0.2732 - val_accuracy: 0.3244\b\b\b\b\b\b\b\b\b\b\b\b\b\b\b\b\b\b\b\b\b\b\b\b\b\b\b\b\b\b\b\b\b\b\b\b\b\b\b\b\nEpoch 8/75\n15/15 [==============================] - 22s 1s/step - loss: 0.1770 - accuracy: 0.5942 - val_loss: 0.2723 - val_accuracy: 0.3244\b\b\b\b\b\b\b\b\b\b\b\b\b\b\b\b\b\b\b\b\b\b\b\b\b\b\b\b\b\b\b\b\b\b\b\b\b\b\b\b\nEpoch 9/75\n15/15 [==============================] - 22s 1s/step - loss: 0.1692 - accuracy: 0.6142 - val_loss: 0.2595 - val_accuracy: 0.3333\b\b\b\b\b\b\b\b\b\b\b\b\b\b\b\b\b\b\b\b\b\b\b\b\b\b\b\b\b\b\b\b\b\b\b\b\b\b\b\b\nEpoch 10/75\n15/15 [==============================] - 22s 1s/step - loss: 0.1691 - accuracy: 0.6552 - val_loss: 0.2890 - val_accuracy: 0.2622\b\b\b\b\b\b\b\b\b\b\b\b\b\b\b\b\b\b\b\b\b\b\b\b\b\b\b\b\b\b\b\b\b\b\b\b\b\b\b\b\nEpoch 11/75\n15/15 [==============================] - 22s 1s/step - loss: 0.1594 - accuracy: 0.6718 - val_loss: 0.2679 - val_accuracy: 0.3511\b\b\b\b\b\b\b\b\b\b\b\b\b\b\b\b\b\b\b\b\b\b\b\b\b\b\b\b\b\b\b\b\b\b\b\b\b\b\b\b\nEpoch 12/75\n15/15 [==============================] - 21s 1s/step - loss: 0.1360 - accuracy: 0.7361 - val_loss: 0.2465 - val_accuracy: 0.3689\b\b\b\b\b\b\b\b\b\b\b\b\b\b\b\b\b\b\b\b\b\b\b\b\b\b\b\b\b\b\b\b\b\b\b\b\b\b\b\b\nEpoch 13/75\n15/15 [==============================] - 22s 1s/step - loss: 0.1296 - accuracy: 0.7528 - val_loss: 0.2744 - val_accuracy: 0.3556\b\b\b\b\b\b\b\b\b\b\b\b\b\b\b\b\b\b\b\b\b\b\b\b\b\b\b\b\b\b\b\b\b\b\b\b\b\b\b\b\nEpoch 14/75\n15/15 [==============================] - 23s 1s/step - loss: 0.1161 - accuracy: 0.7982 - val_loss: 0.2629 - val_accuracy: 0.3600\b\b\b\b\b\b\b\b\b\b\b\b\b\b\b\b\b\b\b\b\b\b\b\b\b\b\b\b\b\b\b\b\b\b\b\b\b\b\b\b\nEpoch 15/75\n15/15 [==============================] - 21s 1s/step - loss: 0.1125 - accuracy: 0.7882 - val_loss: 0.2816 - val_accuracy: 0.3556\b\b\b\b\b\b\b\b\b\b\b\b\b\b\b\b\b\b\b\b\b\b\b\b\b\b\b\b\b\b\b\b\b\b\b\b\b\b\b\b\nEpoch 16/75\n15/15 [==============================] - 22s 1s/step - loss: 0.1068 - accuracy: 0.7838 - val_loss: 0.2673 - val_accuracy: 0.3644\b\b\b\b\b\b\b\b\b\b\b\b\b\b\b\b\b\b\b\b\b\b\b\b\b\b\b\b\b\b\b\b\b\b\b\b\b\b\b\b\nEpoch 17/75\n15/15 [==============================] - 21s 1s/step - loss: 0.1077 - accuracy: 0.8049 - val_loss: 0.2702 - val_accuracy: 0.3600\b\b\b\b\b\b\b\b\b\b\b\b\b\b\b\b\b\b\b\b\b\b\b\b\b\b\b\b\b\b\b\b\b\b\b\b\b\b\b\b\nEpoch 18/75\n15/15 [==============================] - 21s 1s/step - loss: 0.1053 - accuracy: 0.8137 - val_loss: 0.2968 - val_accuracy: 0.3822\b\b\b\b\b\b\b\b\b\b\b\b\b\b\b\b\b\b\b\b\b\b\b\b\b\b\b\b\b\b\b\b\b\b\b\b\b\b\b\b\nEpoch 19/75\n15/15 [==============================] - 21s 1s/step - loss: 0.0992 - accuracy: 0.8470 - val_loss: 0.2663 - val_accuracy: 0.4178\b\b\b\b\b\b\b\b\b\b\b\b\b\b\b\b\b\b\b\b\b\b\b\b\b\b\b\b\b\b\b\b\b\b\b\b\b\b\b\b\nEpoch 20/75\n15/15 [==============================] - 21s 1s/step - loss: 0.0957 - accuracy: 0.8470 - val_loss: 0.2696 - val_accuracy: 0.3956\b\b\b\b\b\b\b\b\b\b\b\b\b\b\b\b\b\b\b\b\b\b\b\b\b\b\b\b\b\b\b\b\b\b\b\b\b\b\b\b\nEpoch 21/75\n15/15 [==============================] - 20s 998ms/step - loss: 0.0791 - accuracy: 0.8769 - val_loss: 0.2658 - val_accuracy: 0.3778\b\b\b\b\b\b\b\b\b\b\b\b\b\b\b\b\b\b\b\b\b\b\b\b\b\b\b\b\b\b\b\b\b\b\b\b\b\nEpoch 22/75\n15/15 [==============================] - 21s 1s/step - loss: 0.0835 - accuracy: 0.8636 - val_loss: 0.2804 - val_accuracy: 0.3911\b\b\b\b\b\b\b\b\b\b\b\b\b\b\b\b\b\b\b\b\b\b\b\b\b\b\b\b\b\b\b\b\b\b\b\b\b\b\b\b\nEpoch 23/75\n15/15 [==============================] - 21s 1s/step - loss: 0.0742 - accuracy: 0.8914 - val_loss: 0.3051 - val_accuracy: 0.4267\b\b\b\b\b\b\b\b\b\b\b\b\b\b\b\b\b\b\b\b\b\b\b\b\b\b\b\b\b\b\b\b\b\b\b\b\b\b\b\b\nEpoch 24/75\n15/15 [==============================] - 22s 1s/step - loss: 0.0690 - accuracy: 0.9002 - val_loss: 0.3357 - val_accuracy: 0.4000\b\b\b\b\b\b\b\b\b\b\b\b\b\b\b\b\b\b\b\b\b\b\b\b\b\b\b\b\b\b\b\b\b\b\b\b\b\b\b\b\nEpoch 25/75\n15/15 [==============================] - 21s 1s/step - loss: 0.0665 - accuracy: 0.8925 - val_loss: 0.2816 - val_accuracy: 0.4222\b\b\b\b\b\b\b\b\b\b\b\b\b\b\b\b\b\b\b\b\b\b\b\b\b\b\b\b\b\b\b\b\b\b\b\b\b\b\b\b\nEpoch 26/75\n15/15 [==============================] - 21s 1s/step - loss: 0.0676 - accuracy: 0.8914 - val_loss: 0.2665 - val_accuracy: 0.4178\b\b\b\b\b\b\b\b\b\b\b\b\b\b\b\b\b\b\b\b\b\b\b\b\b\b\b\b\b\b\b\b\b\b\b\b\b\b\b\b\nEpoch 27/75\n15/15 [==============================] - 21s 1s/step - loss: 0.0603 - accuracy: 0.9169 - val_loss: 0.2847 - val_accuracy: 0.4089\b\b\b\b\b\b\b\b\b\b\b\b\b\b\b\b\b\b\b\b\b\b\b\b\b\b\b\b\b\b\b\b\b\b\b\b\b\b\b\b\nEpoch 28/75\n15/15 [==============================] - 22s 1s/step - loss: 0.0589 - accuracy: 0.9213 - val_loss: 0.3092 - val_accuracy: 0.4089\b\b\b\b\b\b\b\b\b\b\b\b\b\b\b\b\b\b\b\b\b\b\b\b\b\b\b\b\b\b\b\b\b\b\b\b\b\b\b\b\nEpoch 29/75\n15/15 [==============================] - 21s 1s/step - loss: 0.0561 - accuracy: 0.9157 - val_loss: 0.2886 - val_accuracy: 0.4400\b\b\b\b\b\b\b\b\b\b\b\b\b\b\b\b\b\b\b\b\b\b\b\b\b\b\b\b\b\b\b\b\b\b\b\b\b\b\b\b\nEpoch 30/75\n15/15 [==============================] - 21s 1s/step - loss: 0.0522 - accuracy: 0.9257 - val_loss: 0.2785 - val_accuracy: 0.4089\b\b\b\b\b\b\b\b\b\b\b\b\b\b\b\b\b\b\b\b\b\b\b\b\b\b\b\b\b\b\b\b\b\b\b\b\b\b\b\b\nEpoch 31/75\n15/15 [==============================] - 21s 1s/step - loss: 0.0551 - accuracy: 0.9202 - val_loss: 0.2725 - val_accuracy: 0.4356\b\b\b\b\b\b\b\b\b\b\b\b\b\b\b\b\b\b\b\b\b\b\b\b\b\b\b\b\b\b\b\b\b\b\b\b\b\b\b\b\nEpoch 32/75\n15/15 [==============================] - 21s 1s/step - loss: 0.0470 - accuracy: 0.9324 - val_loss: 0.3285 - val_accuracy: 0.4356\b\b\b\b\b\b\b\b\b\b\b\b\b\b\b\b\b\b\b\b\b\b\b\b\b\b\b\b\b\b\b\b\b\b\b\b\b\b\b\b\nEpoch 33/75\n15/15 [==============================] - 21s 1s/step - loss: 0.0483 - accuracy: 0.9335 - val_loss: 0.2995 - val_accuracy: 0.4267\b\b\b\b\b\b\b\b\b\b\b\b\b\b\b\b\b\b\b\b\b\b\b\b\b\b\b\b\b\b\b\b\b\b\b\b\b\b\b\b\nEpoch 34/75\n15/15 [==============================] - 21s 1s/step - loss: 0.0483 - accuracy: 0.9313 - val_loss: 0.2963 - val_accuracy: 0.4356\b\b\b\b\b\b\b\b\b\b\b\b\b\b\b\b\b\b\b\b\b\b\b\b\b\b\b\b\b\b\b\b\b\b\b\b\b\b\b\b\nEpoch 35/75\n15/15 [==============================] - 21s 1s/step - loss: 0.0534 - accuracy: 0.9157 - val_loss: 0.2901 - val_accuracy: 0.4267\b\b\b\b\b\b\b\b\b\b\b\b\b\b\b\b\b\b\b\b\b\b\b\b\b\b\b\b\b\b\b\b\b\b\b\b\b\b\b\b\nEpoch 36/75\n15/15 [==============================] - 21s 997ms/step - loss: 0.0496 - accuracy: 0.9257 - val_loss: 0.3356 - val_accuracy: 0.4222\b\b\b\b\b\b\b\b\b\b\b\b\b\b\b\b\b\b\b\b\b\b\b\b\b\b\b\b\b\b\b\b\b\b\b\b\b\nEpoch 37/75\n15/15 [==============================] - 22s 1s/step - loss: 0.0446 - accuracy: 0.9435 - val_loss: 0.3062 - val_accuracy: 0.4311\b\b\b\b\b\b\b\b\b\b\b\b\b\b\b\b\b\b\b\b\b\b\b\b\b\b\b\b\b\b\b\b\b\b\b\b\b\b\b\b\nEpoch 38/75\n15/15 [==============================] - 21s 1s/step - loss: 0.0401 - accuracy: 0.9545 - val_loss: 0.2845 - val_accuracy: 0.4222\b\b\b\b\b\b\b\b\b\b\b\b\b\b\b\b\b\b\b\b\b\b\b\b\b\b\b\b\b\b\b\b\b\b\b\b\b\b\b\b\nEpoch 39/75\n15/15 [==============================] - 22s 1s/step - loss: 0.0460 - accuracy: 0.9501 - val_loss: 0.3158 - val_accuracy: 0.4356\b\b\b\b\b\b\b\b\b\b\b\b\b\b\b\b\b\b\b\b\b\b\b\b\b\b\b\b\b\b\b\b\b\b\b\b\b\b\b\b\nEpoch 40/75\n15/15 [==============================] - 22s 1s/step - loss: 0.0397 - accuracy: 0.9468 - val_loss: 0.3261 - val_accuracy: 0.4267\b\b\b\b\b\b\b\b\b\b\b\b\b\b\b\b\b\b\b\b\b\b\b\b\b\b\b\b\b\b\b\b\b\b\b\b\b\b\b\b\nEpoch 41/75\n15/15 [==============================] - 21s 1s/step - loss: 0.0388 - accuracy: 0.9468 - val_loss: 0.2967 - val_accuracy: 0.4089\b\b\b\b\b\b\b\b\b\b\b\b\b\b\b\b\b\b\b\b\b\b\b\b\b\b\b\b\b\b\b\b\b\b\b\b\b\b\b\b\nEpoch 42/75\n15/15 [==============================] - 21s 1s/step - loss: 0.0389 - accuracy: 0.9501 - val_loss: 0.2957 - val_accuracy: 0.4356\b\b\b\b\b\b\b\b\b\b\b\b\b\b\b\b\b\b\b\b\b\b\b\b\b\b\b\b\b\b\b\b\b\b\b\b\b\b\b\b\nEpoch 43/75\n15/15 [==============================] - 20s 1s/step - loss: 0.0420 - accuracy: 0.9457 - val_loss: 0.3378 - val_accuracy: 0.4356\b\b\b\b\b\b\b\b\b\b\b\b\b\b\b\b\b\b\b\b\b\b\b\b\b\b\b\b\b\b\b\b\b\b\b\b\b\b\b\b\nEpoch 44/75\n15/15 [==============================] - 22s 1s/step - loss: 0.0410 - accuracy: 0.9424 - val_loss: 0.3133 - val_accuracy: 0.4756\b\b\b\b\b\b\b\b\b\b\b\b\b\b\b\b\b\b\b\b\b\b\b\b\b\b\b\b\b\b\b\b\b\b\b\b\b\b\b\b\nEpoch 45/75\n15/15 [==============================] - 21s 1s/step - loss: 0.0384 - accuracy: 0.9545 - val_loss: 0.3130 - val_accuracy: 0.4311\b\b\b\b\b\b\b\b\b\b\b\b\b\b\b\b\b\b\b\b\b\b\b\b\b\b\b\b\b\b\b\b\b\b\b\b\b\b\b\b\nEpoch 46/75\n15/15 [==============================] - 22s 1s/step - loss: 0.0301 - accuracy: 0.9634 - val_loss: 0.3374 - val_accuracy: 0.4356\b\b\b\b\b\b\b\b\b\b\b\b\b\b\b\b\b\b\b\b\b\b\b\b\b\b\b\b\b\b\b\b\b\b\b\b\b\b\b\b\nEpoch 47/75\n15/15 [==============================] - 20s 1s/step - loss: 0.0340 - accuracy: 0.9667 - val_loss: 0.3269 - val_accuracy: 0.4444\b\b\b\b\b\b\b\b\b\b\b\b\b\b\b\b\b\b\b\b\b\b\b\b\b\b\b\b\b\b\b\b\b\b\b\b\b\b\b\b\nEpoch 48/75\n15/15 [==============================] - 20s 1s/step - loss: 0.0307 - accuracy: 0.9612 - val_loss: 0.3040 - val_accuracy: 0.4578\b\b\b\b\b\b\b\b\b\b\b\b\b\b\b\b\b\b\b\b\b\b\b\b\b\b\b\b\b\b\b\b\b\b\b\b\b\b\b\b\nEpoch 49/75\n15/15 [==============================] - 22s 1s/step - loss: 0.0336 - accuracy: 0.9490 - val_loss: 0.2932 - val_accuracy: 0.4756\b\b\b\b\b\b\b\b\b\b\b\b\b\b\b\b\b\b\b\b\b\b\b\b\b\b\b\b\b\b\b\b\b\b\b\b\b\b\b\b\nEpoch 50/75\n15/15 [==============================] - 20s 1s/step - loss: 0.0337 - accuracy: 0.9590 - val_loss: 0.3183 - val_accuracy: 0.4578\b\b\b\b\b\b\b\b\b\b\b\b\b\b\b\b\b\b\b\b\b\b\b\b\b\b\b\b\b\b\b\b\b\b\b\b\b\b\b\b\nEpoch 51/75\n15/15 [==============================] - 21s 1s/step - loss: 0.0311 - accuracy: 0.9601 - val_loss: 0.3278 - val_accuracy: 0.4622\b\b\b\b\b\b\b\b\b\b\b\b\b\b\b\b\b\b\b\b\b\b\b\b\b\b\b\b\b\b\b\b\b\b\b\b\b\b\b\b\nEpoch 52/75\n15/15 [==============================] - 22s 1s/step - loss: 0.0339 - accuracy: 0.9568 - val_loss: 0.3631 - val_accuracy: 0.4356\b\b\b\b\b\b\b\b\b\b\b\b\b\b\b\b\b\b\b\b\b\b\b\b\b\b\b\b\b\b\b\b\b\b\b\b\b\b\b\b\nEpoch 53/75\n15/15 [==============================] - 21s 1s/step - loss: 0.0290 - accuracy: 0.9667 - val_loss: 0.3426 - val_accuracy: 0.4844\b\b\b\b\b\b\b\b\b\b\b\b\b\b\b\b\b\b\b\b\b\b\b\b\b\b\b\b\b\b\b\b\b\b\b\b\b\b\b\b\nEpoch 54/75\n15/15 [==============================] - 20s 1s/step - loss: 0.0378 - accuracy: 0.9446 - val_loss: 0.3189 - val_accuracy: 0.4489\b\b\b\b\b\b\b\b\b\b\b\b\b\b\b\b\b\b\b\b\b\b\b\b\b\b\b\b\b\b\b\b\b\b\b\b\b\b\b\b\nEpoch 55/75\n15/15 [==============================] - 21s 1s/step - loss: 0.0312 - accuracy: 0.9701 - val_loss: 0.3072 - val_accuracy: 0.4667\b\b\b\b\b\b\b\b\b\b\b\b\b\b\b\b\b\b\b\b\b\b\b\b\b\b\b\b\b\b\b\b\b\b\b\b\b\b\b\b\nEpoch 56/75\n15/15 [==============================] - 21s 1s/step - loss: 0.0296 - accuracy: 0.9690 - val_loss: 0.3541 - val_accuracy: 0.4222\b\b\b\b\b\b\b\b\b\b\b\b\b\b\b\b\b\b\b\b\b\b\b\b\b\b\b\b\b\b\b\b\b\b\b\b\b\b\b\b\nEpoch 57/75\n15/15 [==============================] - 22s 1s/step - loss: 0.0380 - accuracy: 0.9479 - val_loss: 0.4457 - val_accuracy: 0.4044\b\b\b\b\b\b\b\b\b\b\b\b\b\b\b\b\b\b\b\b\b\b\b\b\b\b\b\b\b\b\b\b\b\b\b\b\b\b\b\b\nEpoch 58/75\n15/15 [==============================] - 22s 1s/step - loss: 0.0421 - accuracy: 0.9490 - val_loss: 0.3070 - val_accuracy: 0.4222\b\b\b\b\b\b\b\b\b\b\b\b\b\b\b\b\b\b\b\b\b\b\b\b\b\b\b\b\b\b\b\b\b\b\b\b\b\b\b\b\nEpoch 59/75\n15/15 [==============================] - 22s 1s/step - loss: 0.0268 - accuracy: 0.9667 - val_loss: 0.3589 - val_accuracy: 0.4444\b\b\b\b\b\b\b\b\b\b\b\b\b\b\b\b\b\b\b\b\b\b\b\b\b\b\b\b\b\b\b\b\b\b\b\b\b\b\b\b\nEpoch 60/75\n15/15 [==============================] - 21s 1s/step - loss: 0.0295 - accuracy: 0.9568 - val_loss: 0.3221 - val_accuracy: 0.4356\b\b\b\b\b\b\b\b\b\b\b\b\b\b\b\b\b\b\b\b\b\b\b\b\b\b\b\b\b\b\b\b\b\b\b\b\b\b\b\b\nEpoch 61/75\n15/15 [==============================] - 21s 1s/step - loss: 0.0280 - accuracy: 0.9634 - val_loss: 0.2832 - val_accuracy: 0.4578\b\b\b\b\b\b\b\b\b\b\b\b\b\b\b\b\b\b\b\b\b\b\b\b\b\b\b\b\b\b\b\b\b\b\b\b\b\b\b\b\nEpoch 62/75\n15/15 [==============================] - 22s 1s/step - loss: 0.0224 - accuracy: 0.9778 - val_loss: 0.3460 - val_accuracy: 0.4622\b\b\b\b\b\b\b\b\b\b\b\b\b\b\b\b\b\b\b\b\b\b\b\b\b\b\b\b\b\b\b\b\b\b\b\b\b\b\b\b\nEpoch 63/75\n15/15 [==============================] - 21s 1s/step - loss: 0.0185 - accuracy: 0.9823 - val_loss: 0.3260 - val_accuracy: 0.4489\b\b\b\b\b\b\b\b\b\b\b\b\b\b\b\b\b\b\b\b\b\b\b\b\b\b\b\b\b\b\b\b\b\b\b\b\b\b\b\b\nEpoch 64/75\n15/15 [==============================] - 21s 1s/step - loss: 0.0230 - accuracy: 0.9800 - val_loss: 0.3275 - val_accuracy: 0.4578\b\b\b\b\b\b\b\b\b\b\b\b\b\b\b\b\b\b\b\b\b\b\b\b\b\b\b\b\b\b\b\b\b\b\b\b\b\b\b\b\nEpoch 65/75\n15/15 [==============================] - 21s 1s/step - loss: 0.0250 - accuracy: 0.9745 - val_loss: 0.3259 - val_accuracy: 0.4133\b\b\b\b\b\b\b\b\b\b\b\b\b\b\b\b\b\b\b\b\b\b\b\b\b\b\b\b\b\b\b\b\b\b\b\b\b\b\b\b\nEpoch 66/75\n15/15 [==============================] - 21s 1s/step - loss: 0.0247 - accuracy: 0.9690 - val_loss: 0.3811 - val_accuracy: 0.4533\b\b\b\b\b\b\b\b\b\b\b\b\b\b\b\b\b\b\b\b\b\b\b\b\b\b\b\b\b\b\b\b\b\b\b\b\b\b\b\b\nEpoch 67/75\n15/15 [==============================] - 20s 983ms/step - loss: 0.0235 - accuracy: 0.9690 - val_loss: 0.3450 - val_accuracy: 0.4444\b\b\b\b\b\b\b\b\b\b\b\b\b\b\b\b\b\b\b\b\b\b\b\b\b\b\b\b\b\b\b\b\b\b\b\b\b\nEpoch 68/75\n15/15 [==============================] - 20s 1s/step - loss: 0.0233 - accuracy: 0.9701 - val_loss: 0.3443 - val_accuracy: 0.4444\b\b\b\b\b\b\b\b\b\b\b\b\b\b\b\b\b\b\b\b\b\b\b\b\b\b\b\b\b\b\b\b\b\b\b\b\b\b\b\b\nEpoch 69/75\n15/15 [==============================] - 21s 1s/step - loss: 0.0205 - accuracy: 0.9723 - val_loss: 0.3598 - val_accuracy: 0.4667\b\b\b\b\b\b\b\b\b\b\b\b\b\b\b\b\b\b\b\b\b\b\b\b\b\b\b\b\b\b\b\b\b\b\b\b\b\b\b\b\nEpoch 70/75\n15/15 [==============================] - 20s 997ms/step - loss: 0.0220 - accuracy: 0.9723 - val_loss: 0.3061 - val_accuracy: 0.4800\b\b\b\b\b\b\b\b\b\b\b\b\b\b\b\b\b\b\b\b\b\b\b\b\b\b\b\b\b\b\b\b\b\b\b\b\b\nEpoch 71/75\n15/15 [==============================] - 20s 1s/step - loss: 0.0226 - accuracy: 0.9712 - val_loss: 0.3466 - val_accuracy: 0.4800\b\b\b\b\b\b\b\b\b\b\b\b\b\b\b\b\b\b\b\b\b\b\b\b\b\b\b\b\b\b\b\b\b\b\b\b\b\b\b\b\nEpoch 72/75\n15/15 [==============================] - 21s 1s/step - loss: 0.0195 - accuracy: 0.9789 - val_loss: 0.3393 - val_accuracy: 0.4667\b\b\b\b\b\b\b\b\b\b\b\b\b\b\b\b\b\b\b\b\b\b\b\b\b\b\b\b\b\b\b\b\b\b\b\b\b\b\b\b\nEpoch 73/75\n15/15 [==============================] - 21s 999ms/step - loss: 0.0255 - accuracy: 0.9690 - val_loss: 0.3138 - val_accuracy: 0.4667\b\b\b\b\b\b\b\b\b\b\b\b\b\b\b\b\b\b\b\b\b\b\b\b\b\b\b\b\b\b\b\b\b\b\b\b\b\nEpoch 74/75\n15/15 [==============================] - 21s 1s/step - loss: 0.0172 - accuracy: 0.9823 - val_loss: 0.3660 - val_accuracy: 0.4578\b\b\b\b\b\b\b\b\b\b\b\b\b\b\b\b\b\b\b\b\b\b\b\b\b\b\b\b\b\b\b\b\b\b\b\b\b\b\b\b\nEpoch 75/75\n15/15 [==============================] - 21s 1s/step - loss: 0.0192 - accuracy: 0.9756 - val_loss: 0.3351 - val_accuracy: 0.4711\b\b\b\b\b\b\b\b\b\b\b\b\b\b\b\b\b\b\b\b\b\b\b\b\b\b\b\b\b\b\b\b\b\b\b\b\b\b\b\b\n"
        }
      ],
      "execution_count": 6,
      "metadata": {
        "gather": {
          "logged": 1643755975301
        }
      },
      "id": "2b394518-db10-4384-b8a4-539fad052dd9"
    }
  ],
  "metadata": {
    "kernelspec": {
      "name": "azureml_py38_tensorflow",
      "language": "python",
      "display_name": "Python 3.8 - Tensorflow"
    },
    "language_info": {
      "name": "python",
      "version": "3.8.1",
      "mimetype": "text/x-python",
      "codemirror_mode": {
        "name": "ipython",
        "version": 3
      },
      "pygments_lexer": "ipython3",
      "nbconvert_exporter": "python",
      "file_extension": ".py"
    },
    "kernel_info": {
      "name": "azureml_py38_tensorflow"
    },
    "nteract": {
      "version": "nteract-front-end@1.0.0"
    },
    "microsoft": {
      "host": {
        "AzureML": {
          "notebookHasBeenCompleted": true
        }
      }
    }
  },
  "nbformat": 4,
  "nbformat_minor": 5
}